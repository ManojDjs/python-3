{
 "cells": [
  {
   "cell_type": "code",
   "execution_count": 34,
   "metadata": {},
   "outputs": [
    {
     "name": "stdout",
     "output_type": "stream",
     "text": [
      "0----->1\n",
      "0----->2\n",
      "1----->0\n",
      "2----->0\n",
      "2----->3\n",
      "3----->2\n",
      "3----->4\n",
      "3----->5\n",
      "4----->3\n",
      "4----->5\n",
      "4----->6\n",
      "5----->3\n",
      "5----->4\n",
      "6----->4\n"
     ]
    }
   ],
   "source": [
    "import numpy as np\n",
    "import abc\n",
    "class Graph(abc.ABC):\n",
    "    def __init__(self,v,directed=False):\n",
    "        self.v=v\n",
    "        self.directed=directed\n",
    "    @abc.abstractmethod\n",
    "    def add_edge(self,v1,v2,weight=0):\n",
    "        pass\n",
    "    @abc.abstractmethod\n",
    "    def get_adj_v(self,v):\n",
    "        pass\n",
    "    @abc.abstractmethod\n",
    "    def get_indegree(self,v):\n",
    "        pass\n",
    "    @abc.abstractmethod\n",
    "    def get_edge_weight(self,v1,v2):\n",
    "        pass\n",
    "    @abc.abstractmethod\n",
    "    def display(self):\n",
    "        pass\n",
    "class AdjacentMatricGraph(Graph):\n",
    "    def __init__(self,v,directed=False):\n",
    "        super(AdjacentMatricGraph,self).__init__(v,directed)\n",
    "        self.matrix=np.zeros((v,v))   \n",
    "    def add_edge(self,v1,v2,weight=1):\n",
    "        if v1 >=self.v or v2>=self.v or v1<0 or v2<0:\n",
    "            raise ValueError('out of bound')\n",
    "        if weight<1:\n",
    "            raise ValueError('out of bound')\n",
    "        self.matrix[v1][v2]=weight\n",
    "        if self.directed==False:\n",
    "            self.matrix[v2][v1]=weight\n",
    "    def get_adj_v(self,v):\n",
    "        if v<0 or v>=self.v:\n",
    "            print('vlaue eroor')\n",
    "        adj_matrix=[]\n",
    "        for i in range(self.v):\n",
    "            if self.matrix[v][i]>0:\n",
    "                adj_matrix.append(i)\n",
    "        return adj_matrix\n",
    "    def get_indegree(self,v):\n",
    "        indeg=0\n",
    "        for i in range(self.v):\n",
    "            if self.matrix[i][v]>0:\n",
    "                indeg=indeg+1\n",
    "        return indeg        \n",
    "    def get_edge_weight(self,v1,v2):\n",
    "        pass            \n",
    "                \n",
    "    def display(self):\n",
    "        for i in range(self.v):\n",
    "            for v in self.get_adj_v(i):\n",
    "                print(str(i)+\"----->\"+str(v))\n",
    "d=AdjacentMatricGraph(7)\n",
    "d.add_edge(0,1)\n",
    "d.add_edge(0,2)\n",
    "d.add_edge(2,3)\n",
    "d.add_edge(3,4)\n",
    "d.add_edge(3,5)\n",
    "d.add_edge(4,6)\n",
    "d.add_edge(4,5)\n",
    "d.display()"
   ]
  },
  {
   "cell_type": "code",
   "execution_count": 36,
   "metadata": {},
   "outputs": [
    {
     "name": "stdout",
     "output_type": "stream",
     "text": [
      "get in degree of : 0 2\n",
      "get in degree of : 1 1\n",
      "get in degree of : 2 2\n",
      "get in degree of : 3 3\n",
      "get in degree of : 4 3\n",
      "get in degree of : 5 2\n",
      "get in degree of : 6 1\n"
     ]
    }
   ],
   "source": [
    "for i in range(7):\n",
    "    print(\"get in degree of :\",i,d.get_indegree(i))"
   ]
  },
  {
   "cell_type": "code",
   "execution_count": 37,
   "metadata": {},
   "outputs": [
    {
     "name": "stdout",
     "output_type": "stream",
     "text": [
      "adjacnet nodes of : 0 [1, 2]\n",
      "adjacnet nodes of : 1 [0]\n",
      "adjacnet nodes of : 2 [0, 3]\n",
      "adjacnet nodes of : 3 [2, 4, 5]\n",
      "adjacnet nodes of : 4 [3, 5, 6]\n",
      "adjacnet nodes of : 5 [3, 4]\n",
      "adjacnet nodes of : 6 [4]\n"
     ]
    }
   ],
   "source": [
    "for i in range(7):\n",
    "    print(\"adjacnet nodes of :\",i,d.get_adj_v(i))"
   ]
  },
  {
   "cell_type": "code",
   "execution_count": null,
   "metadata": {},
   "outputs": [],
   "source": []
  }
 ],
 "metadata": {
  "kernelspec": {
   "display_name": "Python 3",
   "language": "python",
   "name": "python3"
  },
  "language_info": {
   "codemirror_mode": {
    "name": "ipython",
    "version": 3
   },
   "file_extension": ".py",
   "mimetype": "text/x-python",
   "name": "python",
   "nbconvert_exporter": "python",
   "pygments_lexer": "ipython3",
   "version": "3.7.1"
  }
 },
 "nbformat": 4,
 "nbformat_minor": 2
}
