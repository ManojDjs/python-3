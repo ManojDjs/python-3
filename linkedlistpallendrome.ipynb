{
 "cells": [
  {
   "cell_type": "code",
   "execution_count": 17,
   "metadata": {},
   "outputs": [],
   "source": [
    "#checking linked list elemets pettern is pallendrome or not\n",
    "class Node:\n",
    "    def __init__(self,data):\n",
    "        self.data=data\n",
    "        self.next=None\n",
    "class L:\n",
    "    def __init__(self):\n",
    "        self.head=None\n",
    "    def Display(self):\n",
    "        temp=self.head\n",
    "        while(temp):\n",
    "            print(temp.data)\n",
    "            temp=temp.next\n",
    "    def insertatfirst(self,data):\n",
    "        newnode=Node(data)\n",
    "        newnode.next=self.head\n",
    "        self.head=newnode\n",
    "    def insertatend(self,data):\n",
    "        newnode=Node(data)\n",
    "        #if list is null value would be added to the head  else it would e added at end\n",
    "        if self.head==None:\n",
    "            self.head=newnode\n",
    "        else:\n",
    "            last=self.head    \n",
    "            while(last.next!=None):\n",
    "                last=last.next\n",
    "            last.next=newnode    \n",
    "    def deleteNode(self, key):  \n",
    "        # Store head node \n",
    "        temp = self.head \n",
    "        if(temp is not None):\n",
    "            if(temp.data==key):\n",
    "                self.head=temp.next\n",
    "                temp=None\n",
    "                return\n",
    "        prev=None\n",
    "        while temp and temp.data!=key:\n",
    "            prev=temp\n",
    "            temp=temp.next\n",
    "        if temp is None:\n",
    "            print('value not found')\n",
    "            return\n",
    "        prev.next=temp.next\n",
    "        temp=None\n",
    "    def pallendromechecker(self):\n",
    "        checklist=[]\n",
    "        temp=self.head\n",
    "        while(temp):\n",
    "            checklist.append(temp.data)\n",
    "            temp=temp.next\n",
    "        if(checklist==checklist[::-1]):\n",
    "            print(\"elements in linke list are pallendrome\")\n",
    "        else:\n",
    "            print('not pallendrome')\n",
    "            "
   ]
  },
  {
   "cell_type": "code",
   "execution_count": 18,
   "metadata": {},
   "outputs": [
    {
     "name": "stdout",
     "output_type": "stream",
     "text": [
      "0\n",
      "1\n",
      "2\n",
      "3\n",
      "4\n",
      "5\n",
      "4\n",
      "3\n",
      "2\n",
      "1\n"
     ]
    }
   ],
   "source": [
    "llist=L()\n",
    "plist=[1,2,3,4,5,4,3,2,1,0]\n",
    "for i in plist:\n",
    "    llist.insertatfirst(i)\n",
    "#display operation \n",
    "llist.Display()\n",
    "\n"
   ]
  },
  {
   "cell_type": "code",
   "execution_count": 19,
   "metadata": {},
   "outputs": [
    {
     "name": "stdout",
     "output_type": "stream",
     "text": [
      "not pallendrome\n"
     ]
    }
   ],
   "source": [
    "#pallendrome check funciton\n",
    "llist.pallendromechecker()"
   ]
  },
  {
   "cell_type": "code",
   "execution_count": null,
   "metadata": {},
   "outputs": [],
   "source": []
  }
 ],
 "metadata": {
  "kernelspec": {
   "display_name": "Python 3",
   "language": "python",
   "name": "python3"
  },
  "language_info": {
   "codemirror_mode": {
    "name": "ipython",
    "version": 3
   },
   "file_extension": ".py",
   "mimetype": "text/x-python",
   "name": "python",
   "nbconvert_exporter": "python",
   "pygments_lexer": "ipython3",
   "version": "3.7.1"
  }
 },
 "nbformat": 4,
 "nbformat_minor": 2
}
