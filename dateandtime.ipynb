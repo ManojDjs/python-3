{
 "cells": [
  {
   "cell_type": "code",
   "execution_count": 3,
   "metadata": {},
   "outputs": [
    {
     "name": "stdout",
     "output_type": "stream",
     "text": [
      "2019-06-27 13:04:56.047217\n",
      "not comparable\n"
     ]
    }
   ],
   "source": [
    "import datetime\n",
    "datetime_object = datetime.datetime.now()\n",
    "now=datetime.datetime.now()\n",
    "print(datetime_object)\n",
    "if(datetime_object<now):\n",
    "    print('success')\n",
    "else:\n",
    "    print('not comparable')"
   ]
  },
  {
   "cell_type": "code",
   "execution_count": 4,
   "metadata": {},
   "outputs": [
    {
     "name": "stdout",
     "output_type": "stream",
     "text": [
      "2019-06-27\n"
     ]
    }
   ],
   "source": [
    "todaydate=datetime.date.today()\n",
    "print(todaydate)"
   ]
  },
  {
   "cell_type": "code",
   "execution_count": 6,
   "metadata": {},
   "outputs": [
    {
     "name": "stdout",
     "output_type": "stream",
     "text": [
      "Current year: 2019\n",
      "Current month: 6\n",
      "Current day: 27\n"
     ]
    }
   ],
   "source": [
    "today = datetime.date.today() \n",
    "print(\"Current year:\", today.year)\n",
    "print(\"Current month:\", today.month)\n",
    "print(\"Current day:\", today.day)"
   ]
  },
  {
   "cell_type": "code",
   "execution_count": 17,
   "metadata": {},
   "outputs": [
    {
     "name": "stdout",
     "output_type": "stream",
     "text": [
      "27/06/2019\n",
      "Thursday\n",
      "Thu\n"
     ]
    }
   ],
   "source": [
    "now=datetime.date.today()\n",
    "s1 = now.strftime(\"%d/%m/%Y\")\n",
    "print(s1)\n",
    "\n",
    "print(now.strftime(\"%A\"))\n",
    "print(now.strftime('%a'))"
   ]
  },
  {
   "cell_type": "code",
   "execution_count": 21,
   "metadata": {},
   "outputs": [
    {
     "name": "stdout",
     "output_type": "stream",
     "text": [
      "19\n"
     ]
    }
   ],
   "source": [
    "print(now.strftime(\"%y\"))"
   ]
  },
  {
   "cell_type": "code",
   "execution_count": 27,
   "metadata": {},
   "outputs": [
    {
     "name": "stdout",
     "output_type": "stream",
     "text": [
      "27/06/2019\n",
      "27-June-2019\n"
     ]
    }
   ],
   "source": [
    "now=datetime.date.today()\n",
    "s1 = now.strftime(\"%d/%m/%Y\")\n",
    "print(s1)\n",
    "s2=now.strftime(\"%d-%B-%Y\")\n",
    "print(s2)\n"
   ]
  },
  {
   "cell_type": "code",
   "execution_count": 30,
   "metadata": {},
   "outputs": [
    {
     "name": "stdout",
     "output_type": "stream",
     "text": [
      "2019-06-21 00:00:00\n"
     ]
    }
   ],
   "source": [
    "#string to date conversion\n",
    "str='21 june 2019'\n",
    "date=datetime.datetime.strptime(str,'%d %B %Y')\n",
    "print(date)"
   ]
  },
  {
   "cell_type": "code",
   "execution_count": 31,
   "metadata": {},
   "outputs": [
    {
     "name": "stdout",
     "output_type": "stream",
     "text": [
      "<class 'datetime.datetime'>\n"
     ]
    }
   ],
   "source": [
    "print(type(date))"
   ]
  },
  {
   "cell_type": "code",
   "execution_count": 32,
   "metadata": {},
   "outputs": [
    {
     "name": "stdout",
     "output_type": "stream",
     "text": [
      "2019/June/21\n"
     ]
    }
   ],
   "source": [
    "print(date.strftime('%Y/%B/%d'))"
   ]
  },
  {
   "cell_type": "code",
   "execution_count": 34,
   "metadata": {},
   "outputs": [
    {
     "name": "stdout",
     "output_type": "stream",
     "text": [
      "21-June-2019\n"
     ]
    }
   ],
   "source": [
    "print(date.strftime('%d-%B-%Y'))"
   ]
  },
  {
   "cell_type": "code",
   "execution_count": null,
   "metadata": {},
   "outputs": [],
   "source": []
  }
 ],
 "metadata": {
  "kernelspec": {
   "display_name": "Python 3",
   "language": "python",
   "name": "python3"
  },
  "language_info": {
   "codemirror_mode": {
    "name": "ipython",
    "version": 3
   },
   "file_extension": ".py",
   "mimetype": "text/x-python",
   "name": "python",
   "nbconvert_exporter": "python",
   "pygments_lexer": "ipython3",
   "version": "3.7.1"
  }
 },
 "nbformat": 4,
 "nbformat_minor": 2
}
