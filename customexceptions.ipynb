{
 "cells": [
  {
   "cell_type": "code",
   "execution_count": 17,
   "metadata": {},
   "outputs": [
    {
     "name": "stdout",
     "output_type": "stream",
     "text": [
      "value in outer bound\n"
     ]
    }
   ],
   "source": [
    "class userexception(Exception):\n",
    "    def __init__(self,message):\n",
    "        self.message=message\n",
    "#defined for user exception handling\n",
    "#lets say value>5 are out of bound exception\n",
    "value=7\n",
    "value2=10\n",
    "class overexcept(Exception):\n",
    "    def __init__(self,message):\n",
    "        self.message=message\n",
    "try:\n",
    "    if value<5:\n",
    "        raise userexception(\"value in lower bound\")\n",
    "    if value2>5:\n",
    "        raise overexcept('value in outer bound')\n",
    "except userexception as e:\n",
    "    print(e.message)\n",
    "except overexcept as e:\n",
    "    print(e.message)"
   ]
  },
  {
   "cell_type": "code",
   "execution_count": null,
   "metadata": {},
   "outputs": [],
   "source": []
  }
 ],
 "metadata": {
  "kernelspec": {
   "display_name": "Python 3",
   "language": "python",
   "name": "python3"
  },
  "language_info": {
   "codemirror_mode": {
    "name": "ipython",
    "version": 3
   },
   "file_extension": ".py",
   "mimetype": "text/x-python",
   "name": "python",
   "nbconvert_exporter": "python",
   "pygments_lexer": "ipython3",
   "version": "3.7.1"
  }
 },
 "nbformat": 4,
 "nbformat_minor": 2
}
