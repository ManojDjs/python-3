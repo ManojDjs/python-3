{
 "cells": [
  {
   "cell_type": "code",
   "execution_count": 1,
   "metadata": {},
   "outputs": [
    {
     "name": "stdout",
     "output_type": "stream",
     "text": [
      "[(0, 100), (1, 100), (2, 102), (3, 200), (4, 201), (5, 231)]\n"
     ]
    }
   ],
   "source": [
    "import itertools\n",
    "data=[100,100,102,200,201,231]\n",
    "cdata=list(zip(itertools.count(),data))\n",
    "print(cdata)"
   ]
  },
  {
   "cell_type": "code",
   "execution_count": 2,
   "metadata": {},
   "outputs": [
    {
     "name": "stdout",
     "output_type": "stream",
     "text": [
      "<itertools.permutations object at 0x0000022D3808A360>\n"
     ]
    }
   ],
   "source": [
    "perm=itertools.permutations(data,2)\n",
    "print(perm)"
   ]
  },
  {
   "cell_type": "code",
   "execution_count": 3,
   "metadata": {},
   "outputs": [
    {
     "name": "stdout",
     "output_type": "stream",
     "text": [
      "(100, 100)\n",
      "(100, 102)\n",
      "(100, 200)\n",
      "(100, 201)\n",
      "(100, 231)\n",
      "(100, 100)\n",
      "(100, 102)\n",
      "(100, 200)\n",
      "(100, 201)\n",
      "(100, 231)\n",
      "(102, 100)\n",
      "(102, 100)\n",
      "(102, 200)\n",
      "(102, 201)\n",
      "(102, 231)\n",
      "(200, 100)\n",
      "(200, 100)\n",
      "(200, 102)\n",
      "(200, 201)\n",
      "(200, 231)\n",
      "(201, 100)\n",
      "(201, 100)\n",
      "(201, 102)\n",
      "(201, 200)\n",
      "(201, 231)\n",
      "(231, 100)\n",
      "(231, 100)\n",
      "(231, 102)\n",
      "(231, 200)\n",
      "(231, 201)\n"
     ]
    }
   ],
   "source": [
    "for i in perm:\n",
    "    print(i)"
   ]
  },
  {
   "cell_type": "code",
   "execution_count": 6,
   "metadata": {},
   "outputs": [
    {
     "name": "stdout",
     "output_type": "stream",
     "text": [
      "(100, 100)\n",
      "(100, 102)\n",
      "(100, 200)\n",
      "(100, 201)\n",
      "(100, 231)\n",
      "(100, 102)\n",
      "(100, 200)\n",
      "(100, 201)\n",
      "(100, 231)\n",
      "(102, 200)\n",
      "(102, 201)\n",
      "(102, 231)\n",
      "(200, 201)\n",
      "(200, 231)\n",
      "(201, 231)\n"
     ]
    }
   ],
   "source": [
    "comb=itertools.combinations(data,2)\n",
    "for i in comb:\n",
    "    print(i)"
   ]
  },
  {
   "cell_type": "code",
   "execution_count": null,
   "metadata": {},
   "outputs": [],
   "source": []
  }
 ],
 "metadata": {
  "kernelspec": {
   "display_name": "Python 3",
   "language": "python",
   "name": "python3"
  },
  "language_info": {
   "codemirror_mode": {
    "name": "ipython",
    "version": 3
   },
   "file_extension": ".py",
   "mimetype": "text/x-python",
   "name": "python",
   "nbconvert_exporter": "python",
   "pygments_lexer": "ipython3",
   "version": "3.7.1"
  }
 },
 "nbformat": 4,
 "nbformat_minor": 2
}
