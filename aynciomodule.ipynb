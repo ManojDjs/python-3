{
 "cells": [
  {
   "cell_type": "code",
   "execution_count": 12,
   "metadata": {},
   "outputs": [
    {
     "name": "stdout",
     "output_type": "stream",
     "text": [
      "True\n",
      "200\n",
      "10000\n",
      "7000\n",
      "5000\n",
      "time taken \n",
      "112.40100860595703\n"
     ]
    }
   ],
   "source": [
    "import asyncio\n",
    "import time\n",
    "async def lis(x):\n",
    "    ele=[]\n",
    "    for i in range(0,x):\n",
    "        ele.append(i)\n",
    "    print(len(ele))\n",
    "    await asyncio.sleep(0.1)\n",
    "    #time.sleep(0.1)\n",
    "    return(len(ele))\n",
    "async def main():\n",
    "    t1=time.time()\n",
    "    print(l.is_running())\n",
    "    r=l.create_task(lis(200))\n",
    "    await asyncio.wait([\n",
    "        lis(5000),\n",
    "        lis(7000),\n",
    "        lis(10000),\n",
    "        r\n",
    "    ])\n",
    "    t2=time.time()\n",
    "    print('time taken ')\n",
    "    print((t2-t1)*1000)\n",
    "    return(r)\n",
    "\n",
    "# Python 3.7+\n",
    "try:\n",
    "    l=asyncio.get_event_loop()\n",
    "    r=l.run_until_complete(main())\n",
    "    print('retuerned result')\n",
    "    print(r.result())\n",
    "    print(l.is_running())\n",
    "except:pass    \n",
    "    "
   ]
  },
  {
   "cell_type": "code",
   "execution_count": null,
   "metadata": {},
   "outputs": [],
   "source": []
  }
 ],
 "metadata": {
  "kernelspec": {
   "display_name": "Python 3",
   "language": "python",
   "name": "python3"
  },
  "language_info": {
   "codemirror_mode": {
    "name": "ipython",
    "version": 3
   },
   "file_extension": ".py",
   "mimetype": "text/x-python",
   "name": "python",
   "nbconvert_exporter": "python",
   "pygments_lexer": "ipython3",
   "version": "3.7.1"
  }
 },
 "nbformat": 4,
 "nbformat_minor": 2
}
